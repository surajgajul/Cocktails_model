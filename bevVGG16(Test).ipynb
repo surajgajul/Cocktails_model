{
  "cells": [
    {
      "cell_type": "markdown",
      "metadata": {
        "id": "view-in-github",
        "colab_type": "text"
      },
      "source": [
        "<a href=\"https://colab.research.google.com/github/surajgajul/Cocktails_model/blob/main/bevVGG16(Test).ipynb\" target=\"_parent\"><img src=\"https://colab.research.google.com/assets/colab-badge.svg\" alt=\"Open In Colab\"/></a>"
      ]
    },
    {
      "cell_type": "code",
      "execution_count": null,
      "metadata": {
        "id": "MdHic2DFcGF9"
      },
      "outputs": [],
      "source": [
        "from keras.preprocessing.image import ImageDataGenerator\n",
        "import tensorflow as tf"
      ]
    },
    {
      "cell_type": "code",
      "execution_count": null,
      "metadata": {
        "id": "BPhbVDZCbN-D"
      },
      "outputs": [],
      "source": [
        "train_datagen_aug = ImageDataGenerator(rescale = 1./255,\n",
        "                                   shear_range = 0.2,\n",
        "                                   zoom_range = 0.2,\n",
        "                                   rotation_range = 20,\n",
        "                                   validation_split=0.2,\n",
        "                                   horizontal_flip = True)"
      ]
    },
    {
      "cell_type": "code",
      "execution_count": null,
      "metadata": {
        "colab": {
          "base_uri": "https://localhost:8080/"
        },
        "id": "4Iw4C3dFcNMp",
        "outputId": "a81a759a-8237-46f6-af29-c17e7e4e3602"
      },
      "outputs": [
        {
          "output_type": "stream",
          "name": "stdout",
          "text": [
            "Mounted at /content/drive\n",
            "Found 669 images belonging to 7 classes.\n",
            "Found 164 images belonging to 7 classes.\n"
          ]
        }
      ],
      "source": [
        "from google.colab import drive\n",
        "drive.mount('/content/drive')\n",
        "\n",
        "training_set_aug = train_datagen_aug.flow_from_directory(directory= '/content/drive/MyDrive/Bev_Dataset',\n",
        "                                               target_size=(224, 224), # As we choose 64*64 for our convolution model\n",
        "                                               batch_size=50,\n",
        "                                               class_mode='categorical',\n",
        "                                               subset=\"training\"\n",
        "                                               )\n",
        "valid_set = train_datagen_aug.flow_from_directory(directory= '/content/drive/MyDrive/Bev_Dataset',\n",
        "                                            target_size=(224, 224),\n",
        "                                            batch_size=50,\n",
        "                                            class_mode='categorical',\n",
        "                                            subset=\"validation\")"
      ]
    },
    {
      "cell_type": "code",
      "execution_count": null,
      "metadata": {
        "id": "LqdagakDcrk7"
      },
      "outputs": [],
      "source": [
        "callback = tf.keras.callbacks.EarlyStopping(monitor='val_loss', min_delta=0.0025, patience=2, verbose=1)"
      ]
    },
    {
      "cell_type": "code",
      "execution_count": null,
      "metadata": {
        "id": "m7b1kubXcwdt"
      },
      "outputs": [],
      "source": [
        "from tensorflow.keras.applications.vgg16 import VGG16\n",
        "from tensorflow.keras.models import Sequential,Model\n",
        "from tensorflow.keras.layers import Dense ,Dropout,Activation,Flatten,Conv2D,MaxPooling2D"
      ]
    },
    {
      "cell_type": "code",
      "execution_count": null,
      "metadata": {
        "id": "sniB5QGSc-JC"
      },
      "outputs": [],
      "source": [
        "from keras.layers import Input"
      ]
    },
    {
      "cell_type": "code",
      "execution_count": null,
      "metadata": {
        "colab": {
          "base_uri": "https://localhost:8080/"
        },
        "id": "uVQRkJeudAbD",
        "outputId": "ef82cbd9-e40b-4440-fbcc-7cab33815243"
      },
      "outputs": [
        {
          "output_type": "stream",
          "name": "stdout",
          "text": [
            "Downloading data from https://storage.googleapis.com/tensorflow/keras-applications/vgg16/vgg16_weights_tf_dim_ordering_tf_kernels_notop.h5\n",
            "58889256/58889256 [==============================] - 3s 0us/step\n"
          ]
        }
      ],
      "source": [
        "base_model = VGG16(include_top=False,\n",
        "                         input_shape=(224,224,3),\n",
        "                         weights='imagenet',\n",
        "                         pooling=\"avg\"\n",
        "                     )"
      ]
    },
    {
      "cell_type": "code",
      "source": [
        "from tensorflow.keras.regularizers import l2"
      ],
      "metadata": {
        "id": "lQhL58GAhXpZ"
      },
      "execution_count": null,
      "outputs": []
    },
    {
      "cell_type": "code",
      "execution_count": null,
      "metadata": {
        "id": "bibXphTTdR3u"
      },
      "outputs": [],
      "source": [
        "base_model.trainable = False\n",
        "image_input = Input(shape=(224, 224, 3))\n",
        "\n",
        "x = base_model(image_input,training = False)\n",
        "\n",
        "x = Dense(256,activation = \"relu\")(x)\n",
        "x = Dropout(0.2)(x)\n",
        "\n",
        "x = Dense(128,activation = \"relu\")(x)\n",
        "x = Dropout(0.2)(x)\n",
        "\n",
        "image_output = Dense(7,activation=\"softmax\")(x)\n",
        "\n",
        "model = Model(image_input,image_output)\n",
        "model.compile(optimizer=\"adam\",loss=\"categorical_crossentropy\",metrics=[\"accuracy\"])"
      ]
    },
    {
      "cell_type": "code",
      "execution_count": null,
      "metadata": {
        "colab": {
          "base_uri": "https://localhost:8080/"
        },
        "id": "EpF4U7f0divS",
        "outputId": "f262cca9-1ef8-48f5-96a0-151d36b6c13a"
      },
      "outputs": [
        {
          "output_type": "stream",
          "name": "stdout",
          "text": [
            "Epoch 1/10\n",
            "14/14 [==============================] - 492s 37s/step - loss: 1.9860 - accuracy: 0.1883 - val_loss: 1.7858 - val_accuracy: 0.4512\n",
            "Epoch 2/10\n",
            "14/14 [==============================] - 12s 871ms/step - loss: 1.7915 - accuracy: 0.2945 - val_loss: 1.6397 - val_accuracy: 0.4695\n",
            "Epoch 3/10\n",
            "14/14 [==============================] - 12s 882ms/step - loss: 1.6301 - accuracy: 0.4260 - val_loss: 1.4332 - val_accuracy: 0.5000\n",
            "Epoch 4/10\n",
            "14/14 [==============================] - 13s 900ms/step - loss: 1.4569 - accuracy: 0.4858 - val_loss: 1.2435 - val_accuracy: 0.6159\n",
            "Epoch 5/10\n",
            "14/14 [==============================] - 12s 925ms/step - loss: 1.3647 - accuracy: 0.5007 - val_loss: 1.1400 - val_accuracy: 0.6341\n",
            "Epoch 6/10\n",
            "14/14 [==============================] - 12s 919ms/step - loss: 1.2511 - accuracy: 0.5650 - val_loss: 1.0512 - val_accuracy: 0.6951\n",
            "Epoch 7/10\n",
            "14/14 [==============================] - 14s 1s/step - loss: 1.1578 - accuracy: 0.5755 - val_loss: 1.0646 - val_accuracy: 0.6707\n",
            "Epoch 8/10\n",
            "14/14 [==============================] - 14s 1s/step - loss: 1.1142 - accuracy: 0.6024 - val_loss: 0.9795 - val_accuracy: 0.6951\n",
            "Epoch 9/10\n",
            "14/14 [==============================] - 12s 882ms/step - loss: 1.0598 - accuracy: 0.6353 - val_loss: 0.9383 - val_accuracy: 0.6829\n",
            "Epoch 10/10\n",
            "14/14 [==============================] - 14s 1s/step - loss: 1.0333 - accuracy: 0.6188 - val_loss: 0.9041 - val_accuracy: 0.7256\n"
          ]
        }
      ],
      "source": [
        "hist = model.fit(training_set_aug,validation_data = valid_set, epochs=10, callbacks=[callback])\n",
        "model.save('/content/drive/MyDrive/Bev_Dataset/model.h5')"
      ]
    },
    {
      "cell_type": "code",
      "source": [
        "from keras.models import load_model\n",
        "import os\n",
        "from keras.preprocessing import image\n",
        "import numpy as np\n",
        "model=load_model('/content/drive/MyDrive/Bev_Dataset/model.h5')\n",
        "test_folder=os.listdir(\"/content/drive/MyDrive/Bev_Test\")"
      ],
      "metadata": {
        "id": "5wfEpe5EgsjE"
      },
      "execution_count": null,
      "outputs": []
    },
    {
      "cell_type": "code",
      "source": [
        "y_true=[]\n",
        "for i in test_folder:\n",
        "  for j in range(len(os.listdir(f\"/content/drive/MyDrive/Bev_Test/{i}\"))):\n",
        "    y_true.append(i)"
      ],
      "metadata": {
        "id": "Oa_0Y3eWzRUi"
      },
      "execution_count": null,
      "outputs": []
    },
    {
      "cell_type": "code",
      "source": [
        "import tensorflow\n",
        "y_predicted=[]\n",
        "for i in test_folder:\n",
        "  for j in os.listdir(f\"/content/drive/MyDrive/Bev_Test/{i}\"):\n",
        "    img = tensorflow.keras.utils.load_img(f\"/content/drive/MyDrive/Bev_Test/{i}/{j}\", target_size=(224,224))\n",
        "    x = tensorflow.keras.utils.img_to_array(img)\n",
        "    x=x/255\n",
        "    x=x.reshape(224,224,3)\n",
        "    x = np.expand_dims(x, axis=0)\n",
        "    # with model_graph.as_default():\n",
        "        #     with tf_session.as_default():\n",
        "    predi=model.predict(x)\n",
        "    print(predi)\n",
        "    classes_x=np.argmax(predi)\n",
        "        \n",
        "    print(classes_x)\n",
        "    classes=[\"beer\",\"cocktails\",\"coffee\",\"soft_drinks\",\"sports_drink\",\"water\",\"wine\"]    \n",
        "    MaxPosition=np.argmax(predi)  \n",
        "    prediction_label=prediction_label=classes[MaxPosition]\n",
        "    y_predicted.append(prediction_label)"
      ],
      "metadata": {
        "colab": {
          "base_uri": "https://localhost:8080/"
        },
        "id": "FjDIPBJ4ga8b",
        "outputId": "5d2c5453-577a-40c4-d54f-83869f2f40a4"
      },
      "execution_count": null,
      "outputs": [
        {
          "output_type": "stream",
          "name": "stdout",
          "text": [
            "1/1 [==============================] - 3s 3s/step\n",
            "[[0.2409411  0.31338134 0.03410442 0.07203254 0.03380343 0.05114043\n",
            "  0.25459668]]\n",
            "1\n",
            "1/1 [==============================] - 0s 42ms/step\n",
            "[[0.2843577  0.09259771 0.08262192 0.08418445 0.10478298 0.2646573\n",
            "  0.08679795]]\n",
            "0\n",
            "1/1 [==============================] - 0s 56ms/step\n",
            "[[0.01687933 0.8416888  0.00493523 0.01268966 0.0023234  0.00247104\n",
            "  0.1190125 ]]\n",
            "1\n",
            "1/1 [==============================] - 0s 35ms/step\n",
            "[[0.06142414 0.5289402  0.02492319 0.00728888 0.00536643 0.00906174\n",
            "  0.36299536]]\n",
            "1\n",
            "1/1 [==============================] - 0s 22ms/step\n",
            "[[0.00534267 0.00846934 0.94035035 0.0024591  0.00523421 0.00580171\n",
            "  0.03234261]]\n",
            "2\n",
            "1/1 [==============================] - 0s 24ms/step\n",
            "[[0.00408861 0.02865683 0.93184006 0.00180064 0.00167051 0.00122055\n",
            "  0.03072279]]\n",
            "2\n",
            "1/1 [==============================] - 0s 23ms/step\n",
            "[[0.10345983 0.00317599 0.00384717 0.09739624 0.61000985 0.17529508\n",
            "  0.00681576]]\n",
            "4\n",
            "1/1 [==============================] - 0s 26ms/step\n",
            "[[2.9494552e-02 7.7011256e-04 1.9536244e-03 1.5847530e-02 8.7180346e-01\n",
            "  7.8587674e-02 1.5430301e-03]]\n",
            "4\n",
            "1/1 [==============================] - 0s 27ms/step\n",
            "[[9.0863712e-02 6.9771875e-03 4.4804919e-04 5.3489733e-01 2.9068679e-01\n",
            "  1.8070368e-02 5.8056515e-02]]\n",
            "3\n",
            "1/1 [==============================] - 0s 25ms/step\n",
            "[[0.13764542 0.0186727  0.3102893  0.2639608  0.1823706  0.07289486\n",
            "  0.01416631]]\n",
            "2\n",
            "1/1 [==============================] - 0s 22ms/step\n",
            "[[0.11687436 0.00581561 0.00655759 0.1071614  0.17021063 0.5586229\n",
            "  0.03475751]]\n",
            "5\n",
            "1/1 [==============================] - 0s 23ms/step\n",
            "[[0.06479335 0.00846834 0.00639937 0.03802022 0.08594468 0.7531811\n",
            "  0.04319294]]\n",
            "5\n",
            "1/1 [==============================] - 0s 23ms/step\n",
            "[[0.1457355  0.24416988 0.02185418 0.04984574 0.01459477 0.03354972\n",
            "  0.49025017]]\n",
            "6\n",
            "1/1 [==============================] - 0s 21ms/step\n",
            "[[0.02728859 0.4881938  0.293795   0.01352543 0.01780141 0.04207218\n",
            "  0.11732364]]\n",
            "1\n"
          ]
        }
      ]
    },
    {
      "cell_type": "code",
      "source": [
        "from sklearn.metrics import confusion_matrix, ConfusionMatrixDisplay\n",
        "print(y_predicted)\n",
        "print(y_true)\n",
        "cm = confusion_matrix(y_true, y_predicted)\n",
        "cm"
      ],
      "metadata": {
        "colab": {
          "base_uri": "https://localhost:8080/"
        },
        "id": "9Dzx4hgK23Uz",
        "outputId": "c0e1f439-1cb4-4b5c-c97e-9de3963fe6b3"
      },
      "execution_count": null,
      "outputs": [
        {
          "output_type": "stream",
          "name": "stdout",
          "text": [
            "['cocktails', 'beer', 'cocktails', 'cocktails', 'coffee', 'coffee', 'sports_drink', 'sports_drink', 'soft_drinks', 'coffee', 'water', 'water', 'wine', 'cocktails']\n",
            "['beer', 'beer', 'cocktails', 'cocktails', 'coffee', 'coffee', 'sports_drink', 'sports_drink', 'soft_drinks', 'soft_drinks', 'water', 'water', 'wine', 'wine']\n"
          ]
        },
        {
          "output_type": "execute_result",
          "data": {
            "text/plain": [
              "array([[1, 1, 0, 0, 0, 0, 0],\n",
              "       [0, 2, 0, 0, 0, 0, 0],\n",
              "       [0, 0, 2, 0, 0, 0, 0],\n",
              "       [0, 0, 1, 1, 0, 0, 0],\n",
              "       [0, 0, 0, 0, 2, 0, 0],\n",
              "       [0, 0, 0, 0, 0, 2, 0],\n",
              "       [0, 1, 0, 0, 0, 0, 1]])"
            ]
          },
          "metadata": {},
          "execution_count": 5
        }
      ]
    }
  ],
  "metadata": {
    "accelerator": "GPU",
    "colab": {
      "provenance": [],
      "include_colab_link": true
    },
    "kernelspec": {
      "display_name": "Python 3",
      "name": "python3"
    },
    "language_info": {
      "name": "python"
    },
    "gpuClass": "standard"
  },
  "nbformat": 4,
  "nbformat_minor": 0
}